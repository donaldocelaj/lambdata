{
  "nbformat": 4,
  "nbformat_minor": 0,
  "metadata": {
    "colab": {
      "name": "Date to Dataframe.ipynb",
      "version": "0.3.2",
      "provenance": [],
      "include_colab_link": true
    },
    "kernelspec": {
      "name": "python3",
      "display_name": "Python 3"
    }
  },
  "cells": [
    {
      "cell_type": "markdown",
      "metadata": {
        "id": "view-in-github",
        "colab_type": "text"
      },
      "source": [
        "<a href=\"https://colab.research.google.com/github/donaldocelaj/lambdata/blob/master/Date_to_Dataframe.ipynb\" target=\"_parent\"><img src=\"https://colab.research.google.com/assets/colab-badge.svg\" alt=\"Open In Colab\"/></a>"
      ]
    },
    {
      "metadata": {
        "id": "VXa6qR8-04PT",
        "colab_type": "code",
        "colab": {}
      },
      "cell_type": "code",
      "source": [
        "import pandas as pd\n",
        "\n",
        "class Utilities:\n",
        "    \"\"\" Class of Utilities\"\"\"\n",
        "    def __init__(self, tools=1):\n",
        "        self.tools = tools\n",
        "        \n",
        "    #Tool to turn a date into a dataframe\n",
        "    def datetodf(self, date):\n",
        "        df = pd.DataFrame(columns=('Month', 'Day', 'Year'))\n",
        "        list = date.split('/')\n",
        "        series0 = pd.Series(list[0])\n",
        "        series1 = pd.Series(list[1])\n",
        "        series2 = pd.Series(list[2])\n",
        "        df['Month'] = (series0)\n",
        "        df['Day'] = (series1)\n",
        "        df['Year'] = (series2)\n",
        "        print(df.head(1))"
      ],
      "execution_count": 0,
      "outputs": []
    },
    {
      "metadata": {
        "id": "tO7SivVJ05D7",
        "colab_type": "code",
        "colab": {
          "base_uri": "https://localhost:8080/",
          "height": 52
        },
        "outputId": "938e07d7-d066-4d7c-f215-089de838cc85"
      },
      "cell_type": "code",
      "source": [
        "utility = Utilities()\n",
        "utility.datetodf('11/10/1991')"
      ],
      "execution_count": 19,
      "outputs": [
        {
          "output_type": "stream",
          "text": [
            "  Month Day  Year\n",
            "0    11  10  1991\n"
          ],
          "name": "stdout"
        }
      ]
    }
  ]
}