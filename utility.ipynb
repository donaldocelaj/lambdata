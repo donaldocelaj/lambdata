{
 "cells": [
  {
   "cell_type": "code",
   "execution_count": 90,
   "metadata": {},
   "outputs": [],
   "source": [
    "import pandas as pd\n",
    "\n",
    "class Utilities:\n",
    "    \"\"\" Class of Utilities\"\"\"\n",
    "    def __init__(self, tools=1):\n",
    "        self.tools = tools\n",
    "    def datetodf(self, date):\n",
    "        df = pd.DataFrame(columns=('Month', 'Day', 'Year'))\n",
    "        list = date.split('/')\n",
    "        series0 = pd.Series(list[0])\n",
    "        series1 = pd.Series(list[1])\n",
    "        series2 = pd.Series(list[2])\n",
    "        df['Month'] = (series0)\n",
    "        df['Day'] = (series1)\n",
    "        df['Year'] = (series2)\n",
    "        print(df)"
   ]
  },
  {
   "cell_type": "code",
   "execution_count": null,
   "metadata": {},
   "outputs": [],
   "source": []
  }
 ],
 "metadata": {
  "kernelspec": {
   "display_name": "Python 3",
   "language": "python",
   "name": "python3"
  },
  "language_info": {
   "codemirror_mode": {
    "name": "ipython",
    "version": 3
   },
   "file_extension": ".py",
   "mimetype": "text/x-python",
   "name": "python",
   "nbconvert_exporter": "python",
   "pygments_lexer": "ipython3",
   "version": "3.7.1"
  }
 },
 "nbformat": 4,
 "nbformat_minor": 2
}
